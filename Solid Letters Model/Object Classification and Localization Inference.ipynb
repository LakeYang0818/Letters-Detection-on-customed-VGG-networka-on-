{
 "cells": [
  {
   "cell_type": "code",
   "execution_count": null,
   "metadata": {},
   "outputs": [],
   "source": [
    "from tensorflow.keras.preprocessing.image import img_to_array\n",
    "from tensorflow.keras.preprocessing.image import load_img\n",
    "from tensorflow.keras.models import load_model\n",
    "import numpy as np\n",
    "import mimetypes\n",
    "import pickle\n",
    "import cv2\n",
    "import os\n",
    "import matplotlib.pyplot as plt\n",
    "%matplotlib inline\n",
    "\n",
    "image_width  = 200\n",
    "image_height = 200"
   ]
  },
  {
   "cell_type": "code",
   "execution_count": null,
   "metadata": {},
   "outputs": [],
   "source": [
    "model = load_model('./3.h5')\n",
    "lb = pickle.loads(open('./lb3.pickle', \"rb\").read())"
   ]
  },
  {
   "cell_type": "code",
   "execution_count": null,
   "metadata": {},
   "outputs": [],
   "source": [
    "def inference(imagePath):\n",
    "    # load the input image (in Keras format) from disk and preprocess it\n",
    "    image = load_img(imagePath, target_size = (image_width, image_height))\n",
    "    # scaling the pixel intensities to the range [0, 1]\n",
    "    image = img_to_array(image) / 255.0\n",
    "    image = np.expand_dims(image, axis=0)\n",
    "    return model.predict(image)"
   ]
  },
  {
   "cell_type": "code",
   "execution_count": null,
   "metadata": {},
   "outputs": [],
   "source": [
    "def draw_bbox(img, boxPreds, labelPreds):\n",
    "    imagez = np.copy(img)\n",
    "    (h, w) = image.shape[:2]\n",
    "\n",
    "    # predict the bounding box of the object along with the class label\n",
    "    (startX, startY, endX, endY) = boxPreds[0]\n",
    "\n",
    "    # determine the class label with the largest predicted probability\n",
    "    i = np.argmax(labelPreds, axis=1)\n",
    "    label = lb.classes_[i][0]\n",
    "\n",
    "    # scale the predicted bounding box coordinates based on the image dimensions\n",
    "    startX = int(startX * w)\n",
    "    startY = int(startY * h)\n",
    "    endX   = int(endX * w)\n",
    "    endY   = int(endY * h)\n",
    "    \n",
    "    # draw the predicted bounding box and class label on the image\n",
    "    y = startY - 10 if startY - 10 > 10 else startY + 10\n",
    "    cv2.putText(image, label, (startX, y), cv2.FONT_HERSHEY_SIMPLEX, 0.65, (0, 255, 0), 2)\n",
    "    cv2.rectangle(image, (startX, endX), (startY, endY), (0, 255, 0), 2)\n",
    "    \n",
    "    return image"
   ]
  },
  {
   "cell_type": "code",
   "execution_count": null,
   "metadata": {},
   "outputs": [],
   "source": [
    "imagePath='/Users/pc/Desktop/CIOMP/Letters Recognition/Object_Detection/solid_dataset_od/images/M/image_18.png'\n",
    "\n",
    "image = plt.imread(imagePath)\n",
    "\n",
    "(boxPreds, labelPreds) = inference(imagePath)\n",
    "letters = list(i for i in \"ABCDEFGHIJKLMNOPQRSTUVWXYZ\")\n",
    "print(\"Predicted Label:\", letters[int(np.argmax(labelPreds, 1))])\n",
    "\n",
    "image_with_bbox = draw_bbox(image, boxPreds, labelPreds)\n",
    "\n",
    "plt.imshow(image_with_bbox)"
   ]
  },
  {
   "cell_type": "code",
   "execution_count": null,
   "metadata": {},
   "outputs": [],
   "source": [
    "# Load the image\n",
    "imagePath = \"/Users/pc/Desktop/CIOMP/Letters Recognition/Sample.png\"\n",
    "image = plt.imread(imagePath)\n",
    "\n",
    "# Detect letters in the image\n",
    "boxPreds, labelPreds = inference(imagePath)\n",
    "draw_bbox(image, boxPreds, labelPreds)\n",
    "\n",
    "# Display or save the image with bounding boxes\n",
    "cv2.imshow('Image with Bounding Boxes', image)\n",
    "cv2.imwrite('output_image.jpg', image)\n"
   ]
  }
 ],
 "metadata": {
  "kernelspec": {
   "display_name": "Python 3 (ipykernel)",
   "language": "python",
   "name": "python3"
  },
  "language_info": {
   "codemirror_mode": {
    "name": "ipython",
    "version": 3
   },
   "file_extension": ".py",
   "mimetype": "text/x-python",
   "name": "python",
   "nbconvert_exporter": "python",
   "pygments_lexer": "ipython3",
   "version": "3.10.9"
  }
 },
 "nbformat": 4,
 "nbformat_minor": 4
}
