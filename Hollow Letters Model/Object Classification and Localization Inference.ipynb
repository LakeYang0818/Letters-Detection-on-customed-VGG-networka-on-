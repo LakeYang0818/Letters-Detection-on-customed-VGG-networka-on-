{
 "cells": [
  {
   "cell_type": "code",
   "execution_count": 1,
   "metadata": {},
   "outputs": [
    {
     "name": "stderr",
     "output_type": "stream",
     "text": [
      "2023-09-03 22:33:52.200379: I tensorflow/core/platform/cpu_feature_guard.cc:182] This TensorFlow binary is optimized to use available CPU instructions in performance-critical operations.\n",
      "To enable the following instructions: AVX2 FMA, in other operations, rebuild TensorFlow with the appropriate compiler flags.\n"
     ]
    }
   ],
   "source": [
    "from tensorflow.keras.preprocessing.image import img_to_array\n",
    "from tensorflow.keras.preprocessing.image import load_img\n",
    "from tensorflow.keras.models import load_model\n",
    "import numpy as np\n",
    "import mimetypes\n",
    "import pickle\n",
    "import cv2\n",
    "import os\n",
    "import matplotlib.pyplot as plt\n",
    "%matplotlib inline\n",
    "\n",
    "image_width  = 200\n",
    "image_height = 200"
   ]
  },
  {
   "cell_type": "code",
   "execution_count": 2,
   "metadata": {},
   "outputs": [],
   "source": [
    "model = load_model('./3.h5')\n",
    "lb = pickle.loads(open('./lb3.pickle', \"rb\").read())"
   ]
  },
  {
   "cell_type": "code",
   "execution_count": 3,
   "metadata": {},
   "outputs": [],
   "source": [
    "def inference(imagePath):\n",
    "    # load the input image (in Keras format) from disk and preprocess\n",
    "    # it, scaling the pixel intensities to the range [0, 1]\n",
    "    image = load_img(imagePath, target_size = (image_width, image_height))\n",
    "    image = img_to_array(image) / 255.0\n",
    "    image = np.expand_dims(image, axis=0)\n",
    "    return model.predict(image)"
   ]
  },
  {
   "cell_type": "code",
   "execution_count": 4,
   "metadata": {},
   "outputs": [],
   "source": [
    "def draw_bbox(img, boxPreds, labelPreds):\n",
    "    imagez = np.copy(img)\n",
    "    (h, w) = image.shape[:2]\n",
    "\n",
    "    # predict the bounding box of the object along with the class label\n",
    "    (startX, startY, endX, endY) = boxPreds[0]\n",
    "\n",
    "    # determine the class label with the largest predicted probability\n",
    "    i = np.argmax(labelPreds, axis=1)\n",
    "    label = lb.classes_[i][0]\n",
    "\n",
    "    # scale the predicted bounding box coordinates based on the image dimensions\n",
    "    startX = int(startX * w)\n",
    "    startY = int(startY * h)\n",
    "    endX   = int(endX * w)\n",
    "    endY   = int(endY * h)\n",
    "    \n",
    "    # draw the predicted bounding box and class label on the image\n",
    "    y = startY - 10 if startY - 10 > 10 else startY + 10\n",
    "    cv2.putText(image, label, (startX, y), cv2.FONT_HERSHEY_SIMPLEX, 0.65, (0, 255, 0), 2)\n",
    "    cv2.rectangle(image, (startX, endX), (startY, endY), (0, 255, 0), 2)\n",
    "    \n",
    "    return image"
   ]
  },
  {
   "cell_type": "code",
   "execution_count": 6,
   "metadata": {},
   "outputs": [
    {
     "name": "stdout",
     "output_type": "stream",
     "text": [
      "1/1 [==============================] - 0s 113ms/step\n"
     ]
    },
    {
     "name": "stderr",
     "output_type": "stream",
     "text": [
      "Clipping input data to the valid range for imshow with RGB data ([0..1] for floats or [0..255] for integers).\n"
     ]
    },
    {
     "name": "stdout",
     "output_type": "stream",
     "text": [
      "Predicted Label: M\n"
     ]
    },
    {
     "data": {
      "text/plain": [
       "<matplotlib.image.AxesImage at 0x7fd888633820>"
      ]
     },
     "execution_count": 6,
     "metadata": {},
     "output_type": "execute_result"
    },
    {
     "data": {
      "image/png": "[encoded data removed]",
      "text/plain": [
       "<Figure size 640x480 with 1 Axes>"
      ]
     },
     "metadata": {},
     "output_type": "display_data"
    }
   ],
   "source": [
    "imagePath = './hollow_dataset/images/M/image_18.png'\n",
    "\n",
    "image = plt.imread(imagePath)\n",
    "\n",
    "(boxPreds, labelPreds) = inference(imagePath)\n",
    "letters = list(i for i in \"ABCDEFGHIJKLMNOPQRSTUVWXYZ\")\n",
    "print(\"Predicted Label:\", letters[int(np.argmax(labelPreds, 1))])\n",
    "\n",
    "image_with_bbox = draw_bbox(image, boxPreds, labelPreds)\n",
    "\n",
    "plt.imshow(image_with_bbox)"
   ]
  },
  {
   "cell_type": "code",
   "execution_count": 12,
   "metadata": {},
   "outputs": [
    {
     "name": "stdout",
     "output_type": "stream",
     "text": [
      "1/1 [==============================] - 0s 118ms/step\n"
     ]
    }
   ],
   "source": [
    "# Assuming you have a function that detects letters in an image and returns bounding boxes and labels\n",
    "\n",
    "# Load your image\n",
    "imagePath = \"./Sample.png\"\n",
    "image = plt.imread(imagePath)\n",
    "\n",
    "# Detect letters in the image\n",
    "boxPreds, labelPreds = inference(imagePath)\n",
    "draw_bbox(image, boxPreds, labelPreds)\n",
    "\n",
    "# Display or save the image with bounding boxes\n",
    "cv2.imshow('Image with Bounding Boxes', image)\n",
    "#cv2.imwrite('output_image.jpg', image)\n",
    "\n"
   ]
  }
 ],
 "metadata": {
  "kernelspec": {
   "display_name": "Python 3 (ipykernel)",
   "language": "python",
   "name": "python3"
  },
  "language_info": {
   "codemirror_mode": {
    "name": "ipython",
    "version": 3
   },
   "file_extension": ".py",
   "mimetype": "text/x-python",
   "name": "python",
   "nbconvert_exporter": "python",
   "pygments_lexer": "ipython3",
   "version": "3.10.9"
  }
 },
 "nbformat": 4,
 "nbformat_minor": 4
}
